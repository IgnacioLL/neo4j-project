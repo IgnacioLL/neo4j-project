{
 "cells": [
  {
   "cell_type": "code",
   "execution_count": 3,
   "id": "92965c76-3af7-4627-8d5d-1f3bc7a4d1fc",
   "metadata": {},
   "outputs": [],
   "source": [
    "from pyspark.sql import SparkSession\n",
    "from pyspark.sql.types import StructType, StructField, StringType, ArrayType, IntegerType, DateType, LongType, DoubleType\n",
    "\n",
    "from pyspark.sql import functions as F\n",
    "from pyspark.sql.functions import lit, when, col\n",
    "import pandas as pd\n",
    "\n",
    "import os"
   ]
  },
  {
   "cell_type": "code",
   "execution_count": 4,
   "id": "5fa07e6f-ad5e-48e6-a6a6-adf7c45a29d0",
   "metadata": {},
   "outputs": [],
   "source": [
    "spark = (\n",
    "    SparkSession\n",
    "    .builder \n",
    "    .appName(\"Preprocessing SDM\") \n",
    "    .config(\"spark.driver.memory\", \"2g\") \n",
    "    .getOrCreate()\n",
    ")"
   ]
  },
  {
   "cell_type": "code",
   "execution_count": 20,
   "id": "a42dc931-2034-472f-b0a7-650d4c15b0c5",
   "metadata": {},
   "outputs": [],
   "source": [
    "root_directory =  \"/mnt/c/MDS/Q2/SDM/data/data\""
   ]
  },
  {
   "cell_type": "markdown",
   "id": "1d5bb106-fa48-4e36-b913-b67513801c4a",
   "metadata": {},
   "source": [
    "### Read data"
   ]
  },
  {
   "cell_type": "markdown",
   "id": "51d53d95-7b1f-41eb-a2b8-83e7dfd512eb",
   "metadata": {},
   "source": [
    "#### Article"
   ]
  },
  {
   "cell_type": "code",
   "execution_count": 22,
   "id": "ef6acb3f-13e2-410d-a2f1-3c7e87eca28c",
   "metadata": {},
   "outputs": [],
   "source": [
    "def _create_schema(headers):\n",
    "    schema = []\n",
    "    for columna, tipo in headers:\n",
    "        if tipo in ['int', 'ID']: spark_dtype = LongType()\n",
    "        elif str(tipo).startswith(\"string\"): spark_dtype = StringType()\n",
    "        else: spark_dtype = StringType()\n",
    "\n",
    "        if columna == '': columna = tipo\n",
    "    \n",
    "        schema.append(StructField(columna, spark_dtype, True))\n",
    "    return StructType(schema)\n",
    "\n",
    "\n",
    "def read_data_w_sep_headers(name_data: str = \"dblp_www\"):\n",
    "    headers = pd.read_csv(f\"{root_directory}/{name_data}_header.csv\", delimiter=\";\").columns\n",
    "    headers = map(lambda x: str(x).split(\":\"), headers)\n",
    "    \n",
    "    schema = _create_schema(headers)\n",
    "\n",
    "    df = spark.read.schema(schema).options(delimiter=\";\").csv(f\"{root_directory}/{name_data}.csv\")\n",
    "    \n",
    "    return df\n",
    "\n",
    "def read_data_w_embedded_headers(name_data: str = \"dblp_www\"):\n",
    "    headers = pd.read_csv(f\"{root_directory}/{name_data}.csv\", delimiter=\";\",nrows=1).columns\n",
    "    headers = map(lambda x: str(x).split(\":\"), headers)\n",
    "    \n",
    "    schema = _create_schema(headers)\n",
    "\n",
    "    df = spark.read.schema(schema).options(delimiter=\";\", header=\"true\").csv(f\"{root_directory}/{name_data}.csv\")\n",
    "\n",
    "    return df\n",
    "    "
   ]
  },
  {
   "cell_type": "code",
   "execution_count": 23,
   "id": "e04cdabd-cfa0-4ddc-8b14-5be658408fb5",
   "metadata": {},
   "outputs": [],
   "source": [
    "article = read_data_w_sep_headers(name_data=\"dblp_article\")\n",
    "book = read_data_w_sep_headers(name_data=\"dblp_book\")\n",
    "data = read_data_w_sep_headers(name_data=\"dblp_data\")\n",
    "incollection = read_data_w_sep_headers(name_data=\"dblp_incollection\")\n",
    "inproceedings = read_data_w_sep_headers(name_data=\"dblp_inproceedings\")\n",
    "mastersthesis = read_data_w_sep_headers(name_data=\"dblp_mastersthesis\")\n",
    "phdthesis = read_data_w_sep_headers(name_data=\"dblp_phdthesis\")\n",
    "proceedings = read_data_w_sep_headers(name_data=\"dblp_proceedings\")\n",
    "www = read_data_w_sep_headers(name_data=\"dblp_www\")\n"
   ]
  },
  {
   "cell_type": "code",
   "execution_count": 24,
   "id": "20209075-8b0f-458e-9276-8c68d8efa438",
   "metadata": {},
   "outputs": [],
   "source": [
    "author = read_data_w_embedded_headers(name_data=\"dblp_author\")\n",
    "authored_by = read_data_w_embedded_headers(name_data=\"dblp_author_authored_by\")\n",
    "journal = read_data_w_embedded_headers(name_data=\"dblp_journal\")\n",
    "journal_published_in = read_data_w_embedded_headers(name_data=\"dblp_journal_published_in\")\n"
   ]
  },
  {
   "cell_type": "code",
   "execution_count": 25,
   "id": "7f3fa24e-4dc7-49cf-bad5-fad30d36531e",
   "metadata": {},
   "outputs": [],
   "source": [
    "tables = [article, book, data, incollection, inproceedings, mastersthesis, phdthesis, proceedings, www]\n",
    "name_tables = [\"article\", \"book\", \"data\", \"incollection\", \"inproceedings\", \"mastersthesis\", \"phdthesis\", \"proceedings\", \"www\"]"
   ]
  },
  {
   "cell_type": "code",
   "execution_count": 27,
   "id": "b6c7fde2-5db7-411a-a3cf-7b6834ce0e8b",
   "metadata": {},
   "outputs": [],
   "source": [
    "check1 = proceedings.select(\"title\", lit(\"X\").alias(\"proceedings\"))\n",
    "check2 = article.select(\"title\", lit(\"X\").alias(\"article\"))\n",
    "\n"
   ]
  },
  {
   "cell_type": "code",
   "execution_count": 28,
   "id": "3fec3d68-5ec2-468f-b1d7-f7437e7c9b60",
   "metadata": {},
   "outputs": [
    {
     "name": "stderr",
     "output_type": "stream",
     "text": [
      "                                                                                \r"
     ]
    },
    {
     "name": "stdout",
     "output_type": "stream",
     "text": [
      "+-------+-----------+--------+\n",
      "|article|proceedings|count(1)|\n",
      "+-------+-----------+--------+\n",
      "|      X|       NULL| 3416091|\n",
      "|   NULL|          X|   57610|\n",
      "|      X|          X|      34|\n",
      "+-------+-----------+--------+\n",
      "\n"
     ]
    }
   ],
   "source": [
    "(\n",
    "    check1\n",
    "    .join(check2, how=\"full\", on=\"title\")\n",
    "    .groupBy(\"article\", \"proceedings\")\n",
    "    .agg(F.count(\"*\"))\n",
    "    .show()\n",
    ")"
   ]
  },
  {
   "cell_type": "code",
   "execution_count": null,
   "id": "cf2ea7f3-67e8-4047-bf99-2610c106db13",
   "metadata": {},
   "outputs": [],
   "source": [
    "proceedings.join(article,)"
   ]
  },
  {
   "cell_type": "code",
   "execution_count": 30,
   "id": "977cb57a-fdd3-462e-89d0-ed9d42e7bf5c",
   "metadata": {},
   "outputs": [
    {
     "data": {
      "text/plain": [
       "DataFrame[inproceedings: bigint, author: string, author-aux: string, author-orcid: string, booktitle: string, cdrom: string, cite: string, cite-label: string, crossref: string, editor: string, editor-orcid: string, ee: string, ee-type: string, i: string, key: string, mdate: string, month: string, note: string, note-type: string, number: string, pages: string, publtype: string, sub: string, sup: string, title: string, title-bibtex: string, tt: string, url: string, volume: bigint, year: bigint]"
      ]
     },
     "execution_count": 30,
     "metadata": {},
     "output_type": "execute_result"
    }
   ],
   "source": [
    "inproceedings"
   ]
  },
  {
   "cell_type": "code",
   "execution_count": 31,
   "id": "dec949c5-db6d-4988-9f9e-dd74be7e49af",
   "metadata": {},
   "outputs": [
    {
     "data": {
      "text/plain": [
       "DataFrame[proceedings: bigint, address: string, author: string, booktitle: string, cite: string, cite-label: string, editor: string, editor-orcid: string, ee: string, ee-type: string, i: string, isbn: string, isbn-type: string, journal: string, key: string, mdate: string, note: string, note-type: string, number: string, pages: string, publisher: string, publisher-href: string, publtype: string, school: string, series: string, series-href: string, sub: string, sup: string, title: string, url: string, volume: string, year: bigint]"
      ]
     },
     "execution_count": 31,
     "metadata": {},
     "output_type": "execute_result"
    }
   ],
   "source": [
    "proceedings"
   ]
  }
 ],
 "metadata": {
  "kernelspec": {
   "display_name": "Python 3 (ipykernel)",
   "language": "python",
   "name": "python3"
  },
  "language_info": {
   "codemirror_mode": {
    "name": "ipython",
    "version": 3
   },
   "file_extension": ".py",
   "mimetype": "text/x-python",
   "name": "python",
   "nbconvert_exporter": "python",
   "pygments_lexer": "ipython3",
   "version": "3.11.4"
  }
 },
 "nbformat": 4,
 "nbformat_minor": 5
}
